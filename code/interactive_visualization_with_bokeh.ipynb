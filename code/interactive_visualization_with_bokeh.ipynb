{
 "cells": [
  {
   "cell_type": "markdown",
   "metadata": {
    "extensions": {
     "jupyter_dashboards": {
      "version": 1,
      "views": {
       "grid_default": {
        "hidden": true
       },
       "report_default": {
        "hidden": true
       }
      }
     }
    }
   },
   "source": [
    "<h1>Investigating Tweet Timelines Using Interactive Bokeh Scatterplots</h1>\n",
    "<p>For this lesson we will extend the work done in <a href=\"https://cvw.cac.cornell.edu/PyDataSci1/tweets_retweets\">Part 1 for cumulative timeline plots</a> of individual tweet/retweet lifetimes using Bokeh to create powerful interactive plots.</p>\n",
    "\n",
    "<p>First, we will replay the initial steps involved to import and prepare our data for plotting and we will also show additional ways to generate more complex cumulative timeline plots using matplotlib so we can better understand both the advantages and limitations of this approach before moving to Bokeh.</p>"
   ]
  },
  {
   "cell_type": "markdown",
   "metadata": {
    "extensions": {
     "jupyter_dashboards": {
      "version": 1,
      "views": {
       "grid_default": {
        "col": 4,
        "height": 4,
        "hidden": false,
        "row": 0,
        "width": 4
       },
       "report_default": {
        "hidden": false
       }
      }
     }
    }
   },
   "source": [
    "<h2>About the Data</h2>\n",
    "<p>This dataset was created using the Twitter Streaming API searching for all tweets/retweets which use the hashtag 'climatechange' during a specified time interval. The original data were collected in its native JSON format, from which we extracted a subset of features, as described <a href=\"https://cvw.cac.cornell.edu/PyDataSci1/filtering_twitter\">in Part 1 of our CVW tutorial</a>. \n",
    "Here are some statistics for this dataset. </p>\n",
    "<p>\n",
    "    <ul>\n",
    "        <li>Timeline Start: 2018-11-20 00:07:52</li>\n",
    "        <li>Timeline End: 2018-12-05 18:38:47</li>\n",
    "        <li>457294 Total Tweets</li>\n",
    "        <li>319103 Retweets</li>\n",
    "        <li>138191 Original Tweets</li>\n",
    "        </ul>\n",
    "        </p>"
   ]
  },
  {
   "cell_type": "code",
   "execution_count": 1,
   "metadata": {
    "extensions": {
     "jupyter_dashboards": {
      "version": 1,
      "views": {
       "grid_default": {
        "hidden": true
       },
       "report_default": {
        "hidden": true
       }
      }
     }
    },
    "scrolled": true
   },
   "outputs": [],
   "source": [
    "import re\n",
    "import datetime\n",
    "import os\n",
    "import sys\n",
    "import math\n",
    "import matplotlib.pyplot as plt\n",
    "import pandas as pd\n",
    "import numpy as np\n",
    "from pandas.plotting import register_matplotlib_converters\n",
    "register_matplotlib_converters()\n",
    "from math import exp, expm1\n",
    "from bokeh.plotting import figure, show, output_file\n",
    "from bokeh.models import ColumnDataSource, HoverTool\n",
    "from bokeh.io.export import export_png"
   ]
  },
  {
   "cell_type": "markdown",
   "metadata": {
    "extensions": {
     "jupyter_dashboards": {
      "version": 1,
      "views": {
       "grid_default": {
        "hidden": true
       },
       "report_default": {
        "hidden": true
       }
      }
     }
    }
   },
   "source": [
    "<b>Import the data into a dataframe</b>\n",
    "\n",
    "First, we will initialize our hashtag and data directory variables. Then we import the data into a Pandas dataframe and display the first five rows. "
   ]
  },
  {
   "cell_type": "code",
   "execution_count": 2,
   "metadata": {},
   "outputs": [
    {
     "data": {
      "text/html": [
       "<div>\n",
       "<style scoped>\n",
       "    .dataframe tbody tr th:only-of-type {\n",
       "        vertical-align: middle;\n",
       "    }\n",
       "\n",
       "    .dataframe tbody tr th {\n",
       "        vertical-align: top;\n",
       "    }\n",
       "\n",
       "    .dataframe thead th {\n",
       "        text-align: right;\n",
       "    }\n",
       "</style>\n",
       "<table border=\"1\" class=\"dataframe\">\n",
       "  <thead>\n",
       "    <tr style=\"text-align: right;\">\n",
       "      <th></th>\n",
       "      <th>tweet_id</th>\n",
       "      <th>tweet_created_at</th>\n",
       "      <th>language</th>\n",
       "      <th>user_screen_name</th>\n",
       "      <th>user_created_at</th>\n",
       "      <th>user_id</th>\n",
       "      <th>followers_count</th>\n",
       "      <th>friends_count</th>\n",
       "      <th>time_zone</th>\n",
       "      <th>utc_offset</th>\n",
       "      <th>retweeted_status</th>\n",
       "      <th>retweet_id</th>\n",
       "      <th>retweet_user_screen_name</th>\n",
       "      <th>retweet_user_id</th>\n",
       "      <th>text</th>\n",
       "    </tr>\n",
       "  </thead>\n",
       "  <tbody>\n",
       "    <tr>\n",
       "      <th>0</th>\n",
       "      <td>1068223635024941056</td>\n",
       "      <td>2018-11-29 19:22:15</td>\n",
       "      <td>en</td>\n",
       "      <td>JGuerreroN13</td>\n",
       "      <td>2017-06-07 20:21:48</td>\n",
       "      <td>872549171680694272</td>\n",
       "      <td>245</td>\n",
       "      <td>419</td>\n",
       "      <td>NaN</td>\n",
       "      <td>NaN</td>\n",
       "      <td>1</td>\n",
       "      <td>1068067040882233344</td>\n",
       "      <td>UNFCCC</td>\n",
       "      <td>17463923</td>\n",
       "      <td>RT @UNFCCC: Delegates from around the world ar...</td>\n",
       "    </tr>\n",
       "    <tr>\n",
       "      <th>1</th>\n",
       "      <td>1068223643765940226</td>\n",
       "      <td>2018-11-29 19:22:17</td>\n",
       "      <td>en</td>\n",
       "      <td>t_rustyboy1720</td>\n",
       "      <td>2017-09-23 03:53:34</td>\n",
       "      <td>911438362271031296</td>\n",
       "      <td>63</td>\n",
       "      <td>232</td>\n",
       "      <td>NaN</td>\n",
       "      <td>NaN</td>\n",
       "      <td>1</td>\n",
       "      <td>1068210734977490944</td>\n",
       "      <td>saskboy</td>\n",
       "      <td>6634632</td>\n",
       "      <td>RT @saskboy: I think we most often hear the wo...</td>\n",
       "    </tr>\n",
       "    <tr>\n",
       "      <th>2</th>\n",
       "      <td>1068223645330432001</td>\n",
       "      <td>2018-11-29 19:22:18</td>\n",
       "      <td>en</td>\n",
       "      <td>MissCJWright</td>\n",
       "      <td>2009-03-15 16:24:32</td>\n",
       "      <td>24544855</td>\n",
       "      <td>1383</td>\n",
       "      <td>4585</td>\n",
       "      <td>NaN</td>\n",
       "      <td>NaN</td>\n",
       "      <td>1</td>\n",
       "      <td>1068223231264505857</td>\n",
       "      <td>EcoSenseNow</td>\n",
       "      <td>1392956425</td>\n",
       "      <td>RT @EcoSenseNow: It mat not be obvious, but Ei...</td>\n",
       "    </tr>\n",
       "    <tr>\n",
       "      <th>3</th>\n",
       "      <td>1068223649222664194</td>\n",
       "      <td>2018-11-29 19:22:19</td>\n",
       "      <td>en</td>\n",
       "      <td>al_f</td>\n",
       "      <td>2009-07-17 00:05:50</td>\n",
       "      <td>57490401</td>\n",
       "      <td>333</td>\n",
       "      <td>377</td>\n",
       "      <td>NaN</td>\n",
       "      <td>NaN</td>\n",
       "      <td>1</td>\n",
       "      <td>1068181567510626310</td>\n",
       "      <td>ClimateComms</td>\n",
       "      <td>362642209</td>\n",
       "      <td>RT @ClimateComms: Most Americans now see #clim...</td>\n",
       "    </tr>\n",
       "    <tr>\n",
       "      <th>4</th>\n",
       "      <td>1068223660299677696</td>\n",
       "      <td>2018-11-29 19:22:21</td>\n",
       "      <td>en</td>\n",
       "      <td>Hawknana_</td>\n",
       "      <td>2013-12-21 03:16:04</td>\n",
       "      <td>2255917724</td>\n",
       "      <td>1751</td>\n",
       "      <td>3409</td>\n",
       "      <td>NaN</td>\n",
       "      <td>NaN</td>\n",
       "      <td>1</td>\n",
       "      <td>1068187254768590848</td>\n",
       "      <td>PortlandBEM</td>\n",
       "      <td>18030823</td>\n",
       "      <td>RT @PortlandBEM: Last week's federal climate c...</td>\n",
       "    </tr>\n",
       "  </tbody>\n",
       "</table>\n",
       "</div>"
      ],
      "text/plain": [
       "              tweet_id    tweet_created_at language user_screen_name  \\\n",
       "0  1068223635024941056 2018-11-29 19:22:15       en     JGuerreroN13   \n",
       "1  1068223643765940226 2018-11-29 19:22:17       en   t_rustyboy1720   \n",
       "2  1068223645330432001 2018-11-29 19:22:18       en     MissCJWright   \n",
       "3  1068223649222664194 2018-11-29 19:22:19       en             al_f   \n",
       "4  1068223660299677696 2018-11-29 19:22:21       en        Hawknana_   \n",
       "\n",
       "      user_created_at             user_id  followers_count  friends_count  \\\n",
       "0 2017-06-07 20:21:48  872549171680694272              245            419   \n",
       "1 2017-09-23 03:53:34  911438362271031296               63            232   \n",
       "2 2009-03-15 16:24:32            24544855             1383           4585   \n",
       "3 2009-07-17 00:05:50            57490401              333            377   \n",
       "4 2013-12-21 03:16:04          2255917724             1751           3409   \n",
       "\n",
       "   time_zone  utc_offset  retweeted_status           retweet_id  \\\n",
       "0        NaN         NaN                 1  1068067040882233344   \n",
       "1        NaN         NaN                 1  1068210734977490944   \n",
       "2        NaN         NaN                 1  1068223231264505857   \n",
       "3        NaN         NaN                 1  1068181567510626310   \n",
       "4        NaN         NaN                 1  1068187254768590848   \n",
       "\n",
       "  retweet_user_screen_name retweet_user_id  \\\n",
       "0                   UNFCCC        17463923   \n",
       "1                  saskboy         6634632   \n",
       "2              EcoSenseNow      1392956425   \n",
       "3             ClimateComms       362642209   \n",
       "4              PortlandBEM        18030823   \n",
       "\n",
       "                                                text  \n",
       "0  RT @UNFCCC: Delegates from around the world ar...  \n",
       "1  RT @saskboy: I think we most often hear the wo...  \n",
       "2  RT @EcoSenseNow: It mat not be obvious, but Ei...  \n",
       "3  RT @ClimateComms: Most Americans now see #clim...  \n",
       "4  RT @PortlandBEM: Last week's federal climate c...  "
      ]
     },
     "execution_count": 2,
     "metadata": {},
     "output_type": "execute_result"
    }
   ],
   "source": [
    "# Initialize parameters\n",
    "hashtag = \"climatechange\"\n",
    "#data_dir = 'https://cvw.cac.cornell.edu/PyDataSci1/data/twitter/'\n",
    "data_dir = '../../CVW_PyDataSci1/data/twitter/'\n",
    "# Import the data and display the 1st five rows\n",
    "tweet_df = pd.read_csv(data_dir + 'climatechange_tweets_all.csv', parse_dates=['tweet_created_at', 'user_created_at'])\n",
    "tweet_df.head()"
   ]
  },
  {
   "cell_type": "markdown",
   "metadata": {
    "extensions": {
     "jupyter_dashboards": {
      "version": 1,
      "views": {
       "grid_default": {
        "hidden": true
       },
       "report_default": {
        "hidden": true
       }
      }
     }
    }
   },
   "source": [
    "Next, we will extract the retweets into a separate dataframe."
   ]
  },
  {
   "cell_type": "code",
   "execution_count": 3,
   "metadata": {},
   "outputs": [],
   "source": [
    "retweet_df = tweet_df[tweet_df.retweeted_status == 1]"
   ]
  },
  {
   "cell_type": "markdown",
   "metadata": {
    "extensions": {
     "jupyter_dashboards": {
      "version": 1,
      "views": {
       "grid_default": {
        "hidden": true
       },
       "report_default": {
        "hidden": true
       }
      }
     }
    }
   },
   "source": [
    "We need the extract the top retweeted tweets (topretweets), the most frequently retweeted Twitter accounts (topretweeted), and the Twitter accounts which retweeted the most, using the groupby command. For this lesson, we are most interested in the first dataset, topretweets, but it may be of interest to know how to generate the other two, as well. In all cases, we can accomplish this using the <a href=\"https://cvw.cac.cornell.edu/PyDataSci1/groupby\">groupby operation on Pandas DataFrames</a>."
   ]
  },
  {
   "cell_type": "code",
   "execution_count": 4,
   "metadata": {},
   "outputs": [],
   "source": [
    "num_top_retweets = retweet_df.groupby('retweet_id').size().sort_values(ascending=False).reset_index()\n",
    "num_top_retweeted = retweet_df.groupby('retweet_user_screen_name').size().sort_values(ascending=False).reset_index()\n",
    "num_top_retweeters = retweet_df[retweet_df.retweeted_status != 0].groupby('user_screen_name').size().sort_values(ascending=False).reset_index()"
   ]
  },
  {
   "cell_type": "markdown",
   "metadata": {
    "extensions": {
     "jupyter_dashboards": {
      "version": 1,
      "views": {
       "grid_default": {
        "col": 0,
        "height": 4,
        "hidden": false,
        "row": 23,
        "width": 12
       },
       "report_default": {
        "hidden": false
       }
      }
     }
    }
   },
   "source": [
    "The feature we are interested in for this lesson is those tweets which were retweeted the most in the dataset, including their retweet count. Let's look at the first 5 rows of the top retweeted tweets."
   ]
  },
  {
   "cell_type": "code",
   "execution_count": 5,
   "metadata": {},
   "outputs": [
    {
     "data": {
      "text/html": [
       "<div>\n",
       "<style scoped>\n",
       "    .dataframe tbody tr th:only-of-type {\n",
       "        vertical-align: middle;\n",
       "    }\n",
       "\n",
       "    .dataframe tbody tr th {\n",
       "        vertical-align: top;\n",
       "    }\n",
       "\n",
       "    .dataframe thead th {\n",
       "        text-align: right;\n",
       "    }\n",
       "</style>\n",
       "<table border=\"1\" class=\"dataframe\">\n",
       "  <thead>\n",
       "    <tr style=\"text-align: right;\">\n",
       "      <th></th>\n",
       "      <th>retweet_id</th>\n",
       "      <th>0</th>\n",
       "    </tr>\n",
       "  </thead>\n",
       "  <tbody>\n",
       "    <tr>\n",
       "      <th>0</th>\n",
       "      <td>1066155330986541058</td>\n",
       "      <td>8923</td>\n",
       "    </tr>\n",
       "    <tr>\n",
       "      <th>1</th>\n",
       "      <td>1067149009867878400</td>\n",
       "      <td>3316</td>\n",
       "    </tr>\n",
       "    <tr>\n",
       "      <th>2</th>\n",
       "      <td>1065274149461987328</td>\n",
       "      <td>3108</td>\n",
       "    </tr>\n",
       "    <tr>\n",
       "      <th>3</th>\n",
       "      <td>1069278755041001472</td>\n",
       "      <td>2885</td>\n",
       "    </tr>\n",
       "    <tr>\n",
       "      <th>4</th>\n",
       "      <td>1069686443109466113</td>\n",
       "      <td>2509</td>\n",
       "    </tr>\n",
       "  </tbody>\n",
       "</table>\n",
       "</div>"
      ],
      "text/plain": [
       "            retweet_id     0\n",
       "0  1066155330986541058  8923\n",
       "1  1067149009867878400  3316\n",
       "2  1065274149461987328  3108\n",
       "3  1069278755041001472  2885\n",
       "4  1069686443109466113  2509"
      ]
     },
     "execution_count": 5,
     "metadata": {},
     "output_type": "execute_result"
    }
   ],
   "source": [
    "num_top_retweets.head()"
   ]
  },
  {
   "cell_type": "markdown",
   "metadata": {
    "extensions": {
     "jupyter_dashboards": {
      "version": 1,
      "views": {
       "grid_default": {
        "col": 0,
        "height": 4,
        "hidden": false,
        "row": 23,
        "width": 12
       },
       "report_default": {
        "hidden": false
       }
      }
     }
    }
   },
   "source": [
    "The column named '0' contains the retweet counts. Let's rename that column."
   ]
  },
  {
   "cell_type": "code",
   "execution_count": 6,
   "metadata": {},
   "outputs": [],
   "source": [
    "num_top_retweets = num_top_retweets.rename(columns={0:'retweet_count'})"
   ]
  },
  {
   "cell_type": "code",
   "execution_count": 7,
   "metadata": {},
   "outputs": [
    {
     "data": {
      "text/html": [
       "<div>\n",
       "<style scoped>\n",
       "    .dataframe tbody tr th:only-of-type {\n",
       "        vertical-align: middle;\n",
       "    }\n",
       "\n",
       "    .dataframe tbody tr th {\n",
       "        vertical-align: top;\n",
       "    }\n",
       "\n",
       "    .dataframe thead th {\n",
       "        text-align: right;\n",
       "    }\n",
       "</style>\n",
       "<table border=\"1\" class=\"dataframe\">\n",
       "  <thead>\n",
       "    <tr style=\"text-align: right;\">\n",
       "      <th></th>\n",
       "      <th>retweet_id</th>\n",
       "      <th>retweet_count</th>\n",
       "    </tr>\n",
       "  </thead>\n",
       "  <tbody>\n",
       "    <tr>\n",
       "      <th>0</th>\n",
       "      <td>1066155330986541058</td>\n",
       "      <td>8923</td>\n",
       "    </tr>\n",
       "    <tr>\n",
       "      <th>1</th>\n",
       "      <td>1067149009867878400</td>\n",
       "      <td>3316</td>\n",
       "    </tr>\n",
       "    <tr>\n",
       "      <th>2</th>\n",
       "      <td>1065274149461987328</td>\n",
       "      <td>3108</td>\n",
       "    </tr>\n",
       "    <tr>\n",
       "      <th>3</th>\n",
       "      <td>1069278755041001472</td>\n",
       "      <td>2885</td>\n",
       "    </tr>\n",
       "    <tr>\n",
       "      <th>4</th>\n",
       "      <td>1069686443109466113</td>\n",
       "      <td>2509</td>\n",
       "    </tr>\n",
       "  </tbody>\n",
       "</table>\n",
       "</div>"
      ],
      "text/plain": [
       "            retweet_id  retweet_count\n",
       "0  1066155330986541058           8923\n",
       "1  1067149009867878400           3316\n",
       "2  1065274149461987328           3108\n",
       "3  1069278755041001472           2885\n",
       "4  1069686443109466113           2509"
      ]
     },
     "execution_count": 7,
     "metadata": {},
     "output_type": "execute_result"
    }
   ],
   "source": [
    "num_top_retweets.head()"
   ]
  },
  {
   "cell_type": "markdown",
   "metadata": {
    "extensions": {
     "jupyter_dashboards": {
      "version": 1,
      "views": {
       "grid_default": {
        "col": 0,
        "height": 4,
        "hidden": false,
        "row": 23,
        "width": 12
       },
       "report_default": {
        "hidden": false
       }
      }
     }
    }
   },
   "source": [
    "We can similarly rename the columns for the other dataframes just created."
   ]
  },
  {
   "cell_type": "code",
   "execution_count": 8,
   "metadata": {},
   "outputs": [],
   "source": [
    "num_top_retweeters = num_top_retweeters.rename(columns={0:'retweet_count'})\n",
    "num_top_retweeted = num_top_retweeted.rename(columns={0:'retweet_count'})"
   ]
  },
  {
   "cell_type": "markdown",
   "metadata": {
    "extensions": {
     "jupyter_dashboards": {
      "version": 1,
      "views": {
       "grid_default": {
        "hidden": true
       },
       "report_default": {
        "hidden": true
       }
      }
     }
    }
   },
   "source": [
    "<b>Generate 'Cumulative Timelines' of Top Tweet Lifespans Scaled by Followers Count</b>\n",
    "\n",
    "We ended Part 1 with an example of how to create 'cumulative timelines' of the tweets which were retweeted the most in the dataset, which we presented with scatterplots, of cumulative retweet count over time.  We now want to augment that by adding a third variable to the data visualization, namely the 'followers_count' attribute of each retweet.  Since the followers_count can vary greatly among users, we'll want to create a new data column that both scales the counts to make the data amenable for plotting, as well as clip the maximum value in that column so that the plots are not dominated by a few outliers.  In the code cell below, this is accomplished by applying a lambda function to followers_count data:\n",
    "\n",
    "<pre>\n",
    "top_retweets['followers_count_scaled'] = \\\n",
    "   top_retweets['followers_count'].apply(lambda x: np.clip(x/1000, 0., 3000.))\n",
    "</pre>\n",
    "\n",
    "Let's restrict our plots to only the top 3 rows in num_top_retweets."
   ]
  },
  {
   "cell_type": "markdown",
   "metadata": {
    "extensions": {
     "jupyter_dashboards": {
      "version": 1,
      "views": {
       "grid_default": {
        "col": 8,
        "height": 4,
        "hidden": false,
        "row": 51,
        "width": 4
       },
       "report_default": {
        "hidden": false
       }
      }
     }
    }
   },
   "source": [
    "<b>Generate Combined Cumulative Timelines of Top Tweet Lifespans Scaled by Followers Count</b>\n",
    "\n",
    "The previous plot provides some additional insight into the role certain users play in influencing the lifetime of a tweet. However, the scale factor for some points is so large it can obscure the underlying path. To solve this problem, we will overlay a second plot similar to the first but with a different color and constant smaller scale. We will also reduce the alpha channel values for the underlying plot to help reveal additional information. "
   ]
  },
  {
   "cell_type": "code",
   "execution_count": 9,
   "metadata": {
    "extensions": {
     "jupyter_dashboards": {
      "version": 1,
      "views": {
       "grid_default": {
        "hidden": true
       },
       "report_default": {
        "hidden": true
       }
      }
     }
    },
    "scrolled": false
   },
   "outputs": [
    {
     "data": {
      "image/png": "[encoded data removed]",
      "text/plain": [
       "<Figure size 1296x432 with 1 Axes>"
      ]
     },
     "metadata": {
      "needs_background": "light"
     },
     "output_type": "display_data"
    },
    {
     "data": {
      "image/png": "[encoded data removed]",
      "text/plain": [
       "<Figure size 1296x432 with 1 Axes>"
      ]
     },
     "metadata": {
      "needs_background": "light"
     },
     "output_type": "display_data"
    },
    {
     "data": {
      "image/png": "[encoded data removed]",
      "text/plain": [
       "<Figure size 1296x432 with 1 Axes>"
      ]
     },
     "metadata": {
      "needs_background": "light"
     },
     "output_type": "display_data"
    }
   ],
   "source": [
    "# Set our start and end range\n",
    "start_tweet = 0\n",
    "num_tweets = 3\n",
    "\n",
    "# Loop through topretweets\n",
    "for top in range(start_tweet, start_tweet + num_tweets):\n",
    "    \n",
    "    # Get all retweets for tweetid\n",
    "    tweetid = num_top_retweets.iloc[top].retweet_id\n",
    "    top_retweets = retweet_df[retweet_df.retweet_id==tweetid].\\\n",
    "        sort_values('tweet_created_at').reset_index()\n",
    "    \n",
    "    top_retweets['followers_count_scaled'] = top_retweets['followers_count'].apply(lambda x: np.clip(x/1000, 0., 3000.))\n",
    "\n",
    "    plt.figure(figsize=(18,6))\n",
    "    plt.scatter(top_retweets.tweet_created_at, top_retweets.index, s=top_retweets.followers_count_scaled, alpha=0.5)\n",
    "    plt.plot(top_retweets.tweet_created_at, top_retweets.index, 'ro', markersize=0.1)\n",
    "    plt.xlim(tweet_df.tweet_created_at.min(), tweet_df.tweet_created_at.max())\n",
    "    plt.xlabel('Date')\n",
    "    plt.ylabel('Cumulative Retweet Count')\n",
    "    plt.title(str(top) + ' - Cumulative Timeline, #' + hashtag + ', Tweet ID: ' + str(tweetid));\n",
    "\n",
    "\n",
    "#start_tweet = 0\n",
    "#end_tweet = 2\n",
    "#for top in range(start_tweet, end_tweet):\n",
    "#    \n",
    "#    # Get all retweets for tweetid\n",
    "#    tweetid = topretweets.iloc[top].retweet_id\n",
    "#    top_retweets = climatechange_retweet_df[climatechange_retweet_df.retweet_id==tweetid].sort_values('tweet_created_at').reset_index()\n",
    "#    \n",
    "#    # Create a list of datesfor x axis\n",
    "#    values = list(x for x in top_retweets[\"tweet_created_at\"])\n",
    "#    \n",
    "#    # Create list of followers counts\n",
    "#    followers_count = list(f for f in top_retweets['followers_count'])\n",
    "#    followers_count_scaled = []\n",
    "#    for j in range(len(followers_count)):\n",
    "#        if followers_count[j] > 1000000:\n",
    "#            followers_count_scaled.append(3000)\n",
    "#        else:                \n",
    "#            followers_count_scaled.append(followers_count[j]/1000)\n",
    "#    \n",
    "#    plt.figure(figsize=(18,6))\n",
    "#    plt.scatter(top_retweets.tweet_created_at, top_retweets.index, s=followers_count_scaled, alpha=0.6)\n",
    "#    plt.plot(top_retweets.tweet_created_at, top_retweets.index, 'ro', markersize=0.1)\n",
    "#    tl = len(top_retweets)-1\n",
    "#    plt.xlim([datetime.datetime(values[0].year, values[0].month, values[0].day), datetime.datetime(values[tl].year, values[tl].month, values[tl].day, values[tl].hour)])\n",
    "#    plt.xlabel('Date')\n",
    "#    plt.ylabel('Cumulative Retweet Count')\n",
    "#    plt.title(str(top) + ' - Cumulative Timeline, #' + hashtag + ' Set 2, Tweet ID: ' + str(tweetid))\n",
    "#    plt.show()\n",
    "#    plt.savefig(\"../pages/images/\" + str(top) + \"_\" + hashtag + \"_tweet_\" + str(tweetid) + \"_combined_scatter_v1_nov20_to_dec5_2018.png\")\n",
    "#    plt.close()\n"
   ]
  },
  {
   "cell_type": "markdown",
   "metadata": {
    "extensions": {
     "jupyter_dashboards": {
      "version": 1,
      "views": {
       "grid_default": {
        "col": 0,
        "height": 4,
        "hidden": false,
        "row": 83,
        "width": 12
       },
       "report_default": {
        "hidden": false
       }
      }
     }
    }
   },
   "source": [
    "<b>Generate Interactive Bokeh Plots in HTML</b>\n",
    "\n",
    "While the above methods can be very useful in gaining insight into a tweet's retweet lifespan, there may be value in knowing exactly who tweeted which retweet at any particular moment for a specific tweet. We may also want the ability to pan and zoom through our plots and select subsets to gain additional insights. Let's see how to do this with Bokeh. \n",
    "\n",
    "Bokeh works by generating plots in web browsers, combining a high-level Python programming interface that generates javascript (js) code to display HTML documents in a browser.  The plotting interface is a bit different than what we've seen in matplotlib and seaborn, and is described in more detail in the <a href=\"https://docs.bokeh.org/en/latest/docs/user_guide.html\">Bokeh user's guide</a>.  One of the key new datatypes that Bokeh introduces is a <code>ColumnDataSource</code>, which is similar in some ways to a Pandas dataframe in that it holds various data arrays keyed by a name.  In this exercise, we pack all the data of interest into a ColumnDataSource that we can use in conjunction with a scatterplot routine.\n",
    "\n",
    "The code below creates a cumulative timeline plot and scales each point with the followers count of the Twitter account that retweeted that specific tweet. Once the HTML documents are created, they will open automatically in your default browser. You can then pan and zoom through the plot. You can click the scrollwheel icon in the toolbar on the right to enable zooming with the scrollwheel on your mouse. In the second plot, if you zoom into the retweet represented by the large circle at around 8am on November 27, you can observe a slight upcurve in the slope of the plot indicating an increase in retweets per unit time. If you hover the mouse over the circle some metadata will appear in a popup window, and we can see that the Twitter account which retweeted the tweet, RVAWonk, has more than 300,000 followers suggesting that many of them retweeted the same tweet within a short length of time.\n",
    "\n",
    "Even though these plots are interactive, in that they respond to certain mouse actions (e.g., hover), Bokeh is also capable of supporting fully dynamic server applications, in which Python callbacks can be triggered through the user interface to carry out additional computations.  This is described in more detail in the documentation on <a href=\"https://docs.bokeh.org/en/latest/docs/user_guide/server.html\">Running a Bokeh Server</a> and demostrated online in a number of <a href=\"https://demo.bokeh.org\">sample applications</a>."
   ]
  },
  {
   "cell_type": "code",
   "execution_count": 13,
   "metadata": {},
   "outputs": [],
   "source": [
    "# Loop through a few topretweets\n",
    "\n",
    "for top in range(0,3):\n",
    "    #plt.figure(figsize=(18,6))\n",
    "    tweetid = num_top_retweets.iloc[top].retweet_id\n",
    "    top_retweets = retweet_df[retweet_df.retweet_id==tweetid].\\\n",
    "        sort_values('tweet_created_at').reset_index()\n",
    "    \n",
    "    max_followers_count = top_retweets['followers_count'].max()\n",
    "    scale_factor = max_followers_count/50.\n",
    "    top_retweets['followers_count_scaled'] = top_retweets['followers_count'].\\\n",
    "        apply(lambda x: np.clip(x/scale_factor, 0., 100.))\n",
    "\n",
    "    source = ColumnDataSource(data=dict(\n",
    "        x = top_retweets['tweet_created_at'],\n",
    "        y = top_retweets.index,\n",
    "        followers_count = top_retweets['followers_count'],\n",
    "        radii = top_retweets['followers_count_scaled'],\n",
    "        tweet_text = top_retweets['text'],\n",
    "        tweet_date = top_retweets['tweet_created_at'],\n",
    "        user_data = top_retweets['user_screen_name']\n",
    "    ))\n",
    "    \n",
    "\n",
    "    TOOLS=\"crosshair,pan,wheel_zoom,zoom_in,zoom_out,box_zoom,undo,redo,reset,save\"\n",
    "\n",
    "    p = figure(tools=TOOLS, plot_width=1000, plot_height=600, x_axis_type=\"datetime\")\n",
    "    p.scatter(x='x', y='y', size='radii', fill_color='#000000', fill_alpha=0.40, line_color='#000000', source=source)\n",
    "    p.add_tools(HoverTool(tooltips=[('User:', '@user_data'),('Followers Count:', '@followers_count'),('Date:', '@tweet_date'),('Tweet:', '@tweet_text')]))\n",
    "\n",
    "    output_file(\"../pages/images/\" + hashtag + \"_tweet_bokeh_scatter_\" + str(tweetid) + \".html\", title=\"Tweet Scatterplot Example, #climatechange\")\n",
    "    show(p)"
   ]
  }
 ],
 "metadata": {
  "extensions": {
   "jupyter_dashboards": {
    "activeView": "report_default",
    "version": 1,
    "views": {
     "grid_default": {
      "cellMargin": 10,
      "defaultCellHeight": 20,
      "maxColumns": 12,
      "name": "grid",
      "type": "grid"
     },
     "report_default": {
      "name": "report",
      "type": "report"
     }
    }
   }
  },
  "kernelspec": {
   "display_name": "Python 3",
   "language": "python",
   "name": "python3"
  },
  "language_info": {
   "codemirror_mode": {
    "name": "ipython",
    "version": 3
   },
   "file_extension": ".py",
   "mimetype": "text/x-python",
   "name": "python",
   "nbconvert_exporter": "python",
   "pygments_lexer": "ipython3",
   "version": "3.7.7"
  }
 },
 "nbformat": 4,
 "nbformat_minor": 2
}
